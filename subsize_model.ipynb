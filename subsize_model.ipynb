{
 "cells": [
  {
   "cell_type": "code",
   "execution_count": 11,
   "metadata": {},
   "outputs": [],
   "source": [
    "import pandas as pd\n",
    "from datasets import load_dataset, Dataset\n",
    "import matplotlib.pyplot as plt\n",
    "import seaborn as sns\n",
    "from tqdm.notebook import tqdm\n",
    "\n",
    "from transformers import AutoTokenizer, AutoModelForSequenceClassification\n",
    "from transformers import TrainingArguments, Trainer\n",
    "from sklearn.metrics import accuracy_score, precision_recall_fscore_support\n",
    "import torch\n",
    "\n",
    "import os\n",
    "\n",
    "# for reproducibility\n",
    "import numpy as np\n",
    "np.random.seed(42)"
   ]
  },
  {
   "cell_type": "code",
   "execution_count": 12,
   "metadata": {},
   "outputs": [],
   "source": [
    "# load dataset\n",
    "dataset = load_dataset(\"fancyzhx/amazon_polarity\")\n",
    "\n",
    "df_train = pd.DataFrame(dataset['train']).head(6000)\n",
    "df_test = pd.DataFrame(dataset['test']).head(6000)"
   ]
  },
  {
   "cell_type": "code",
   "execution_count": 13,
   "metadata": {},
   "outputs": [],
   "source": [
    "# Function to create hierarchically nested training subsets\n",
    "def create_specific_splits(data, sizes):\n",
    "    splits = {}\n",
    "    for size in sizes:\n",
    "        if size <= len(data):\n",
    "            split_data = data.head(size)\n",
    "            splits[f\"train_{size}\"] = split_data\n",
    "            print(f\"Split with {size} samples created in memory.\")\n",
    "    return splits\n",
    "\n",
    "def tokenize_function(examples):\n",
    "    return tokenizer(examples['content'], padding=\"max_length\", truncation=True)\n",
    "\n",
    "def compute_metrics(pred):\n",
    "    labels = pred.label_ids\n",
    "    preds = pred.predictions.argmax(-1)\n",
    "    precision, recall, f1, _ = precision_recall_fscore_support(labels, preds, average='binary')\n",
    "    acc = accuracy_score(labels, preds)\n",
    "    return {\"accuracy\": acc, \"f1\": f1, \"precision\": precision, \"recall\": recall}"
   ]
  },
  {
   "cell_type": "code",
   "execution_count": 14,
   "metadata": {},
   "outputs": [
    {
     "name": "stderr",
     "output_type": "stream",
     "text": [
      "Some weights of DistilBertForSequenceClassification were not initialized from the model checkpoint at distilbert-base-uncased and are newly initialized: ['classifier.bias', 'classifier.weight', 'pre_classifier.bias', 'pre_classifier.weight']\n",
      "You should probably TRAIN this model on a down-stream task to be able to use it for predictions and inference.\n"
     ]
    },
    {
     "name": "stdout",
     "output_type": "stream",
     "text": [
      "Split with 50 samples created in memory.\n",
      "Split with 100 samples created in memory.\n",
      "Split with 200 samples created in memory.\n",
      "Split with 400 samples created in memory.\n",
      "Split with 800 samples created in memory.\n",
      "Split with 1000 samples created in memory.\n",
      "Split with 6000 samples created in memory.\n"
     ]
    },
    {
     "data": {
      "application/vnd.jupyter.widget-view+json": {
       "model_id": "c57e8ce3841649059007d10954af604e",
       "version_major": 2,
       "version_minor": 0
      },
      "text/plain": [
       "Map:   0%|          | 0/50 [00:00<?, ? examples/s]"
      ]
     },
     "metadata": {},
     "output_type": "display_data"
    },
    {
     "data": {
      "application/vnd.jupyter.widget-view+json": {
       "model_id": "3a2a437fac1947f1be626ea34a7d2dfd",
       "version_major": 2,
       "version_minor": 0
      },
      "text/plain": [
       "Map:   0%|          | 0/100 [00:00<?, ? examples/s]"
      ]
     },
     "metadata": {},
     "output_type": "display_data"
    },
    {
     "data": {
      "application/vnd.jupyter.widget-view+json": {
       "model_id": "efb8a674196e427cb6dec87e8fd8cf67",
       "version_major": 2,
       "version_minor": 0
      },
      "text/plain": [
       "Map:   0%|          | 0/200 [00:00<?, ? examples/s]"
      ]
     },
     "metadata": {},
     "output_type": "display_data"
    },
    {
     "data": {
      "application/vnd.jupyter.widget-view+json": {
       "model_id": "dba3412d5c1e4c989a26da3a04211670",
       "version_major": 2,
       "version_minor": 0
      },
      "text/plain": [
       "Map:   0%|          | 0/400 [00:00<?, ? examples/s]"
      ]
     },
     "metadata": {},
     "output_type": "display_data"
    },
    {
     "data": {
      "application/vnd.jupyter.widget-view+json": {
       "model_id": "127bd3aa5853412b943b02051da68f2c",
       "version_major": 2,
       "version_minor": 0
      },
      "text/plain": [
       "Map:   0%|          | 0/800 [00:00<?, ? examples/s]"
      ]
     },
     "metadata": {},
     "output_type": "display_data"
    },
    {
     "data": {
      "application/vnd.jupyter.widget-view+json": {
       "model_id": "a890dbd76caa4f6c8ed5798dafe2b26e",
       "version_major": 2,
       "version_minor": 0
      },
      "text/plain": [
       "Map:   0%|          | 0/1000 [00:00<?, ? examples/s]"
      ]
     },
     "metadata": {},
     "output_type": "display_data"
    },
    {
     "data": {
      "application/vnd.jupyter.widget-view+json": {
       "model_id": "f77958d584964131a56a48f201536cce",
       "version_major": 2,
       "version_minor": 0
      },
      "text/plain": [
       "Map:   0%|          | 0/6000 [00:00<?, ? examples/s]"
      ]
     },
     "metadata": {},
     "output_type": "display_data"
    }
   ],
   "source": [
    "# Create the requested splits\n",
    "sizes = [50, 100, 200, 400, 800, 1000, 6000]  # Added 6000 for the full dataset\n",
    "nested_splits = create_specific_splits(df_train, sizes)\n",
    "nested_splits = {key: Dataset.from_pandas(value) for key, value in nested_splits.items()}\n",
    "\n",
    "model_name = \"distilbert-base-uncased\"\n",
    "tokenizer = AutoTokenizer.from_pretrained(model_name)\n",
    "model = AutoModelForSequenceClassification.from_pretrained(model_name, num_labels=2)\n",
    "\n",
    "# Tokenize all datasets\n",
    "nested_splits_tokenized = {key: value.map(tokenize_function, batched=True) for key, value in nested_splits.items()}\n",
    "test_tokenized = dataset['test'].select(range(6000)).map(tokenize_function, batched=True).with_format('torch')\n",
    "\n",
    "os.environ[\"TOKENIZERS_PARALLELISM\"] = \"false\"\n",
    "\n",
    "training_args = TrainingArguments(\n",
    "    output_dir=\"results\",\n",
    "    eval_strategy=\"epoch\",  # Log at each epoch\n",
    "    logging_strategy=\"epoch\",  # Ensure that you log at each epoch\n",
    "    learning_rate=2e-5,\n",
    "    per_device_train_batch_size=128,\n",
    "    per_device_eval_batch_size=128,\n",
    "    num_train_epochs=5,\n",
    "    weight_decay=0.01,\n",
    "    logging_dir=\"logs\",\n",
    "    save_strategy=\"epoch\",\n",
    "    save_total_limit=2,\n",
    "    load_best_model_at_end=True,\n",
    "    metric_for_best_model=\"accuracy\"\n",
    ")"
   ]
  },
  {
   "cell_type": "code",
   "execution_count": 15,
   "metadata": {},
   "outputs": [
    {
     "name": "stderr",
     "output_type": "stream",
     "text": [
      "Some weights of DistilBertForSequenceClassification were not initialized from the model checkpoint at distilbert-base-uncased and are newly initialized: ['classifier.bias', 'classifier.weight', 'pre_classifier.bias', 'pre_classifier.weight']\n",
      "You should probably TRAIN this model on a down-stream task to be able to use it for predictions and inference.\n"
     ]
    },
    {
     "name": "stderr",
     "output_type": "stream",
     "text": [
      "/tmp/ipykernel_1917/3160480789.py:7: FutureWarning: `tokenizer` is deprecated and will be removed in version 5.0.0 for `Trainer.__init__`. Use `processing_class` instead.\n",
      "  trainer = Trainer(\n"
     ]
    },
    {
     "name": "stdout",
     "output_type": "stream",
     "text": [
      "Training on subset: train_50\n"
     ]
    },
    {
     "data": {
      "text/html": [
       "\n",
       "    <div>\n",
       "      \n",
       "      <progress value='5' max='5' style='width:300px; height:20px; vertical-align: middle;'></progress>\n",
       "      [5/5 03:32, Epoch 5/5]\n",
       "    </div>\n",
       "    <table border=\"1\" class=\"dataframe\">\n",
       "  <thead>\n",
       " <tr style=\"text-align: left;\">\n",
       "      <th>Epoch</th>\n",
       "      <th>Training Loss</th>\n",
       "      <th>Validation Loss</th>\n",
       "      <th>Accuracy</th>\n",
       "      <th>F1</th>\n",
       "      <th>Precision</th>\n",
       "      <th>Recall</th>\n",
       "    </tr>\n",
       "  </thead>\n",
       "  <tbody>\n",
       "    <tr>\n",
       "      <td>1</td>\n",
       "      <td>0.683300</td>\n",
       "      <td>0.685060</td>\n",
       "      <td>0.516000</td>\n",
       "      <td>0.680739</td>\n",
       "      <td>0.516000</td>\n",
       "      <td>1.000000</td>\n",
       "    </tr>\n",
       "    <tr>\n",
       "      <td>2</td>\n",
       "      <td>0.675600</td>\n",
       "      <td>0.681627</td>\n",
       "      <td>0.516000</td>\n",
       "      <td>0.680739</td>\n",
       "      <td>0.516000</td>\n",
       "      <td>1.000000</td>\n",
       "    </tr>\n",
       "    <tr>\n",
       "      <td>3</td>\n",
       "      <td>0.660000</td>\n",
       "      <td>0.678828</td>\n",
       "      <td>0.516000</td>\n",
       "      <td>0.680739</td>\n",
       "      <td>0.516000</td>\n",
       "      <td>1.000000</td>\n",
       "    </tr>\n",
       "    <tr>\n",
       "      <td>4</td>\n",
       "      <td>0.651200</td>\n",
       "      <td>0.676752</td>\n",
       "      <td>0.516000</td>\n",
       "      <td>0.680739</td>\n",
       "      <td>0.516000</td>\n",
       "      <td>1.000000</td>\n",
       "    </tr>\n",
       "    <tr>\n",
       "      <td>5</td>\n",
       "      <td>0.634700</td>\n",
       "      <td>0.675606</td>\n",
       "      <td>0.516000</td>\n",
       "      <td>0.680739</td>\n",
       "      <td>0.516000</td>\n",
       "      <td>1.000000</td>\n",
       "    </tr>\n",
       "  </tbody>\n",
       "</table><p>"
      ],
      "text/plain": [
       "<IPython.core.display.HTML object>"
      ]
     },
     "metadata": {},
     "output_type": "display_data"
    },
    {
     "data": {
      "text/html": [
       "\n",
       "    <div>\n",
       "      \n",
       "      <progress value='47' max='47' style='width:300px; height:20px; vertical-align: middle;'></progress>\n",
       "      [47/47 00:41]\n",
       "    </div>\n",
       "    "
      ],
      "text/plain": [
       "<IPython.core.display.HTML object>"
      ]
     },
     "metadata": {},
     "output_type": "display_data"
    },
    {
     "name": "stdout",
     "output_type": "stream",
     "text": [
      "Evaluation Results for train_50: {'eval_loss': 0.6850602030754089, 'eval_accuracy': 0.516, 'eval_f1': 0.6807387862796834, 'eval_precision': 0.516, 'eval_recall': 1.0, 'eval_runtime': 42.3016, 'eval_samples_per_second': 141.839, 'eval_steps_per_second': 1.111, 'epoch': 5.0}\n"
     ]
    },
    {
     "name": "stderr",
     "output_type": "stream",
     "text": [
      "Some weights of DistilBertForSequenceClassification were not initialized from the model checkpoint at distilbert-base-uncased and are newly initialized: ['classifier.bias', 'classifier.weight', 'pre_classifier.bias', 'pre_classifier.weight']\n",
      "You should probably TRAIN this model on a down-stream task to be able to use it for predictions and inference.\n"
     ]
    },
    {
     "name": "stdout",
     "output_type": "stream",
     "text": [
      "Model and tokenizer saved in results/train_50_model and results/train_50_tokenizer respectively.\n",
      "Training on subset: train_100\n"
     ]
    },
    {
     "name": "stderr",
     "output_type": "stream",
     "text": [
      "/tmp/ipykernel_1917/3160480789.py:7: FutureWarning: `tokenizer` is deprecated and will be removed in version 5.0.0 for `Trainer.__init__`. Use `processing_class` instead.\n",
      "  trainer = Trainer(\n"
     ]
    },
    {
     "data": {
      "text/html": [
       "\n",
       "    <div>\n",
       "      \n",
       "      <progress value='5' max='5' style='width:300px; height:20px; vertical-align: middle;'></progress>\n",
       "      [5/5 03:41, Epoch 5/5]\n",
       "    </div>\n",
       "    <table border=\"1\" class=\"dataframe\">\n",
       "  <thead>\n",
       " <tr style=\"text-align: left;\">\n",
       "      <th>Epoch</th>\n",
       "      <th>Training Loss</th>\n",
       "      <th>Validation Loss</th>\n",
       "      <th>Accuracy</th>\n",
       "      <th>F1</th>\n",
       "      <th>Precision</th>\n",
       "      <th>Recall</th>\n",
       "    </tr>\n",
       "  </thead>\n",
       "  <tbody>\n",
       "    <tr>\n",
       "      <td>1</td>\n",
       "      <td>0.696100</td>\n",
       "      <td>0.695952</td>\n",
       "      <td>0.502667</td>\n",
       "      <td>0.663433</td>\n",
       "      <td>0.509705</td>\n",
       "      <td>0.949935</td>\n",
       "    </tr>\n",
       "    <tr>\n",
       "      <td>2</td>\n",
       "      <td>0.691200</td>\n",
       "      <td>0.693120</td>\n",
       "      <td>0.515000</td>\n",
       "      <td>0.676882</td>\n",
       "      <td>0.515736</td>\n",
       "      <td>0.984496</td>\n",
       "    </tr>\n",
       "    <tr>\n",
       "      <td>3</td>\n",
       "      <td>0.678700</td>\n",
       "      <td>0.691308</td>\n",
       "      <td>0.517500</td>\n",
       "      <td>0.679082</td>\n",
       "      <td>0.516962</td>\n",
       "      <td>0.989341</td>\n",
       "    </tr>\n",
       "    <tr>\n",
       "      <td>4</td>\n",
       "      <td>0.674800</td>\n",
       "      <td>0.690169</td>\n",
       "      <td>0.519667</td>\n",
       "      <td>0.680062</td>\n",
       "      <td>0.518099</td>\n",
       "      <td>0.989341</td>\n",
       "    </tr>\n",
       "    <tr>\n",
       "      <td>5</td>\n",
       "      <td>0.672400</td>\n",
       "      <td>0.689586</td>\n",
       "      <td>0.520333</td>\n",
       "      <td>0.680151</td>\n",
       "      <td>0.518468</td>\n",
       "      <td>0.988372</td>\n",
       "    </tr>\n",
       "  </tbody>\n",
       "</table><p>"
      ],
      "text/plain": [
       "<IPython.core.display.HTML object>"
      ]
     },
     "metadata": {},
     "output_type": "display_data"
    },
    {
     "data": {
      "text/html": [
       "\n",
       "    <div>\n",
       "      \n",
       "      <progress value='47' max='47' style='width:300px; height:20px; vertical-align: middle;'></progress>\n",
       "      [47/47 00:41]\n",
       "    </div>\n",
       "    "
      ],
      "text/plain": [
       "<IPython.core.display.HTML object>"
      ]
     },
     "metadata": {},
     "output_type": "display_data"
    },
    {
     "name": "stdout",
     "output_type": "stream",
     "text": [
      "Evaluation Results for train_100: {'eval_loss': 0.6895862817764282, 'eval_accuracy': 0.5203333333333333, 'eval_f1': 0.6801511446988219, 'eval_precision': 0.518468315825144, 'eval_recall': 0.9883720930232558, 'eval_runtime': 42.634, 'eval_samples_per_second': 140.733, 'eval_steps_per_second': 1.102, 'epoch': 5.0}\n"
     ]
    },
    {
     "name": "stderr",
     "output_type": "stream",
     "text": [
      "Some weights of DistilBertForSequenceClassification were not initialized from the model checkpoint at distilbert-base-uncased and are newly initialized: ['classifier.bias', 'classifier.weight', 'pre_classifier.bias', 'pre_classifier.weight']\n",
      "You should probably TRAIN this model on a down-stream task to be able to use it for predictions and inference.\n"
     ]
    },
    {
     "name": "stdout",
     "output_type": "stream",
     "text": [
      "Model and tokenizer saved in results/train_100_model and results/train_100_tokenizer respectively.\n",
      "Training on subset: train_200\n"
     ]
    },
    {
     "name": "stderr",
     "output_type": "stream",
     "text": [
      "/tmp/ipykernel_1917/3160480789.py:7: FutureWarning: `tokenizer` is deprecated and will be removed in version 5.0.0 for `Trainer.__init__`. Use `processing_class` instead.\n",
      "  trainer = Trainer(\n"
     ]
    },
    {
     "data": {
      "text/html": [
       "\n",
       "    <div>\n",
       "      \n",
       "      <progress value='10' max='10' style='width:300px; height:20px; vertical-align: middle;'></progress>\n",
       "      [10/10 04:00, Epoch 5/5]\n",
       "    </div>\n",
       "    <table border=\"1\" class=\"dataframe\">\n",
       "  <thead>\n",
       " <tr style=\"text-align: left;\">\n",
       "      <th>Epoch</th>\n",
       "      <th>Training Loss</th>\n",
       "      <th>Validation Loss</th>\n",
       "      <th>Accuracy</th>\n",
       "      <th>F1</th>\n",
       "      <th>Precision</th>\n",
       "      <th>Recall</th>\n",
       "    </tr>\n",
       "  </thead>\n",
       "  <tbody>\n",
       "    <tr>\n",
       "      <td>1</td>\n",
       "      <td>0.702300</td>\n",
       "      <td>0.693669</td>\n",
       "      <td>0.515833</td>\n",
       "      <td>0.680453</td>\n",
       "      <td>0.515930</td>\n",
       "      <td>0.999031</td>\n",
       "    </tr>\n",
       "    <tr>\n",
       "      <td>2</td>\n",
       "      <td>0.681600</td>\n",
       "      <td>0.690778</td>\n",
       "      <td>0.515833</td>\n",
       "      <td>0.680594</td>\n",
       "      <td>0.515919</td>\n",
       "      <td>0.999677</td>\n",
       "    </tr>\n",
       "    <tr>\n",
       "      <td>3</td>\n",
       "      <td>0.672600</td>\n",
       "      <td>0.688822</td>\n",
       "      <td>0.516000</td>\n",
       "      <td>0.680669</td>\n",
       "      <td>0.516005</td>\n",
       "      <td>0.999677</td>\n",
       "    </tr>\n",
       "    <tr>\n",
       "      <td>4</td>\n",
       "      <td>0.673400</td>\n",
       "      <td>0.687489</td>\n",
       "      <td>0.516500</td>\n",
       "      <td>0.680823</td>\n",
       "      <td>0.516269</td>\n",
       "      <td>0.999354</td>\n",
       "    </tr>\n",
       "    <tr>\n",
       "      <td>5</td>\n",
       "      <td>0.666600</td>\n",
       "      <td>0.686949</td>\n",
       "      <td>0.516500</td>\n",
       "      <td>0.680753</td>\n",
       "      <td>0.516274</td>\n",
       "      <td>0.999031</td>\n",
       "    </tr>\n",
       "  </tbody>\n",
       "</table><p>"
      ],
      "text/plain": [
       "<IPython.core.display.HTML object>"
      ]
     },
     "metadata": {},
     "output_type": "display_data"
    },
    {
     "data": {
      "text/html": [
       "\n",
       "    <div>\n",
       "      \n",
       "      <progress value='47' max='47' style='width:300px; height:20px; vertical-align: middle;'></progress>\n",
       "      [47/47 00:42]\n",
       "    </div>\n",
       "    "
      ],
      "text/plain": [
       "<IPython.core.display.HTML object>"
      ]
     },
     "metadata": {},
     "output_type": "display_data"
    },
    {
     "name": "stdout",
     "output_type": "stream",
     "text": [
      "Evaluation Results for train_200: {'eval_loss': 0.6874894499778748, 'eval_accuracy': 0.5165, 'eval_f1': 0.680822972824293, 'eval_precision': 0.5162689804772235, 'eval_recall': 0.9993540051679587, 'eval_runtime': 43.1172, 'eval_samples_per_second': 139.156, 'eval_steps_per_second': 1.09, 'epoch': 5.0}\n"
     ]
    },
    {
     "name": "stderr",
     "output_type": "stream",
     "text": [
      "Some weights of DistilBertForSequenceClassification were not initialized from the model checkpoint at distilbert-base-uncased and are newly initialized: ['classifier.bias', 'classifier.weight', 'pre_classifier.bias', 'pre_classifier.weight']\n",
      "You should probably TRAIN this model on a down-stream task to be able to use it for predictions and inference.\n"
     ]
    },
    {
     "name": "stdout",
     "output_type": "stream",
     "text": [
      "Model and tokenizer saved in results/train_200_model and results/train_200_tokenizer respectively.\n",
      "Training on subset: train_400\n"
     ]
    },
    {
     "name": "stderr",
     "output_type": "stream",
     "text": [
      "/tmp/ipykernel_1917/3160480789.py:7: FutureWarning: `tokenizer` is deprecated and will be removed in version 5.0.0 for `Trainer.__init__`. Use `processing_class` instead.\n",
      "  trainer = Trainer(\n"
     ]
    },
    {
     "data": {
      "text/html": [
       "\n",
       "    <div>\n",
       "      \n",
       "      <progress value='20' max='20' style='width:300px; height:20px; vertical-align: middle;'></progress>\n",
       "      [20/20 04:15, Epoch 5/5]\n",
       "    </div>\n",
       "    <table border=\"1\" class=\"dataframe\">\n",
       "  <thead>\n",
       " <tr style=\"text-align: left;\">\n",
       "      <th>Epoch</th>\n",
       "      <th>Training Loss</th>\n",
       "      <th>Validation Loss</th>\n",
       "      <th>Accuracy</th>\n",
       "      <th>F1</th>\n",
       "      <th>Precision</th>\n",
       "      <th>Recall</th>\n",
       "    </tr>\n",
       "  </thead>\n",
       "  <tbody>\n",
       "    <tr>\n",
       "      <td>1</td>\n",
       "      <td>0.689800</td>\n",
       "      <td>0.690895</td>\n",
       "      <td>0.516000</td>\n",
       "      <td>0.680739</td>\n",
       "      <td>0.516000</td>\n",
       "      <td>1.000000</td>\n",
       "    </tr>\n",
       "    <tr>\n",
       "      <td>2</td>\n",
       "      <td>0.681400</td>\n",
       "      <td>0.688548</td>\n",
       "      <td>0.516000</td>\n",
       "      <td>0.680739</td>\n",
       "      <td>0.516000</td>\n",
       "      <td>1.000000</td>\n",
       "    </tr>\n",
       "    <tr>\n",
       "      <td>3</td>\n",
       "      <td>0.663600</td>\n",
       "      <td>0.684391</td>\n",
       "      <td>0.516500</td>\n",
       "      <td>0.680823</td>\n",
       "      <td>0.516269</td>\n",
       "      <td>0.999354</td>\n",
       "    </tr>\n",
       "    <tr>\n",
       "      <td>4</td>\n",
       "      <td>0.664400</td>\n",
       "      <td>0.680298</td>\n",
       "      <td>0.525167</td>\n",
       "      <td>0.683620</td>\n",
       "      <td>0.520900</td>\n",
       "      <td>0.994186</td>\n",
       "    </tr>\n",
       "    <tr>\n",
       "      <td>5</td>\n",
       "      <td>0.657200</td>\n",
       "      <td>0.678334</td>\n",
       "      <td>0.530667</td>\n",
       "      <td>0.684446</td>\n",
       "      <td>0.524022</td>\n",
       "      <td>0.986434</td>\n",
       "    </tr>\n",
       "  </tbody>\n",
       "</table><p>"
      ],
      "text/plain": [
       "<IPython.core.display.HTML object>"
      ]
     },
     "metadata": {},
     "output_type": "display_data"
    },
    {
     "data": {
      "text/html": [
       "\n",
       "    <div>\n",
       "      \n",
       "      <progress value='47' max='47' style='width:300px; height:20px; vertical-align: middle;'></progress>\n",
       "      [47/47 00:39]\n",
       "    </div>\n",
       "    "
      ],
      "text/plain": [
       "<IPython.core.display.HTML object>"
      ]
     },
     "metadata": {},
     "output_type": "display_data"
    },
    {
     "name": "stdout",
     "output_type": "stream",
     "text": [
      "Evaluation Results for train_400: {'eval_loss': 0.6783336400985718, 'eval_accuracy': 0.5306666666666666, 'eval_f1': 0.6844464365755266, 'eval_precision': 0.5240219629375429, 'eval_recall': 0.9864341085271318, 'eval_runtime': 40.8181, 'eval_samples_per_second': 146.994, 'eval_steps_per_second': 1.151, 'epoch': 5.0}\n"
     ]
    },
    {
     "name": "stderr",
     "output_type": "stream",
     "text": [
      "Some weights of DistilBertForSequenceClassification were not initialized from the model checkpoint at distilbert-base-uncased and are newly initialized: ['classifier.bias', 'classifier.weight', 'pre_classifier.bias', 'pre_classifier.weight']\n",
      "You should probably TRAIN this model on a down-stream task to be able to use it for predictions and inference.\n"
     ]
    },
    {
     "name": "stdout",
     "output_type": "stream",
     "text": [
      "Model and tokenizer saved in results/train_400_model and results/train_400_tokenizer respectively.\n",
      "Training on subset: train_800\n"
     ]
    },
    {
     "name": "stderr",
     "output_type": "stream",
     "text": [
      "/tmp/ipykernel_1917/3160480789.py:7: FutureWarning: `tokenizer` is deprecated and will be removed in version 5.0.0 for `Trainer.__init__`. Use `processing_class` instead.\n",
      "  trainer = Trainer(\n"
     ]
    },
    {
     "data": {
      "text/html": [
       "\n",
       "    <div>\n",
       "      \n",
       "      <progress value='35' max='35' style='width:300px; height:20px; vertical-align: middle;'></progress>\n",
       "      [35/35 04:52, Epoch 5/5]\n",
       "    </div>\n",
       "    <table border=\"1\" class=\"dataframe\">\n",
       "  <thead>\n",
       " <tr style=\"text-align: left;\">\n",
       "      <th>Epoch</th>\n",
       "      <th>Training Loss</th>\n",
       "      <th>Validation Loss</th>\n",
       "      <th>Accuracy</th>\n",
       "      <th>F1</th>\n",
       "      <th>Precision</th>\n",
       "      <th>Recall</th>\n",
       "    </tr>\n",
       "  </thead>\n",
       "  <tbody>\n",
       "    <tr>\n",
       "      <td>1</td>\n",
       "      <td>0.693300</td>\n",
       "      <td>0.685864</td>\n",
       "      <td>0.510167</td>\n",
       "      <td>0.108584</td>\n",
       "      <td>0.890547</td>\n",
       "      <td>0.057817</td>\n",
       "    </tr>\n",
       "    <tr>\n",
       "      <td>2</td>\n",
       "      <td>0.676200</td>\n",
       "      <td>0.675435</td>\n",
       "      <td>0.541333</td>\n",
       "      <td>0.212815</td>\n",
       "      <td>0.930000</td>\n",
       "      <td>0.120155</td>\n",
       "    </tr>\n",
       "    <tr>\n",
       "      <td>3</td>\n",
       "      <td>0.655900</td>\n",
       "      <td>0.657223</td>\n",
       "      <td>0.638667</td>\n",
       "      <td>0.481588</td>\n",
       "      <td>0.927256</td>\n",
       "      <td>0.325258</td>\n",
       "    </tr>\n",
       "    <tr>\n",
       "      <td>4</td>\n",
       "      <td>0.627700</td>\n",
       "      <td>0.635765</td>\n",
       "      <td>0.700500</td>\n",
       "      <td>0.612632</td>\n",
       "      <td>0.920933</td>\n",
       "      <td>0.458979</td>\n",
       "    </tr>\n",
       "    <tr>\n",
       "      <td>5</td>\n",
       "      <td>0.603500</td>\n",
       "      <td>0.624667</td>\n",
       "      <td>0.712500</td>\n",
       "      <td>0.633213</td>\n",
       "      <td>0.926571</td>\n",
       "      <td>0.480943</td>\n",
       "    </tr>\n",
       "  </tbody>\n",
       "</table><p>"
      ],
      "text/plain": [
       "<IPython.core.display.HTML object>"
      ]
     },
     "metadata": {},
     "output_type": "display_data"
    },
    {
     "data": {
      "text/html": [
       "\n",
       "    <div>\n",
       "      \n",
       "      <progress value='47' max='47' style='width:300px; height:20px; vertical-align: middle;'></progress>\n",
       "      [47/47 00:41]\n",
       "    </div>\n",
       "    "
      ],
      "text/plain": [
       "<IPython.core.display.HTML object>"
      ]
     },
     "metadata": {},
     "output_type": "display_data"
    },
    {
     "name": "stdout",
     "output_type": "stream",
     "text": [
      "Evaluation Results for train_800: {'eval_loss': 0.6246672868728638, 'eval_accuracy': 0.7125, 'eval_f1': 0.6332128428662557, 'eval_precision': 0.926571250777847, 'eval_recall': 0.48094315245478036, 'eval_runtime': 42.4268, 'eval_samples_per_second': 141.42, 'eval_steps_per_second': 1.108, 'epoch': 5.0}\n"
     ]
    },
    {
     "name": "stderr",
     "output_type": "stream",
     "text": [
      "Some weights of DistilBertForSequenceClassification were not initialized from the model checkpoint at distilbert-base-uncased and are newly initialized: ['classifier.bias', 'classifier.weight', 'pre_classifier.bias', 'pre_classifier.weight']\n",
      "You should probably TRAIN this model on a down-stream task to be able to use it for predictions and inference.\n"
     ]
    },
    {
     "name": "stdout",
     "output_type": "stream",
     "text": [
      "Model and tokenizer saved in results/train_800_model and results/train_800_tokenizer respectively.\n",
      "Training on subset: train_1000\n"
     ]
    },
    {
     "name": "stderr",
     "output_type": "stream",
     "text": [
      "/tmp/ipykernel_1917/3160480789.py:7: FutureWarning: `tokenizer` is deprecated and will be removed in version 5.0.0 for `Trainer.__init__`. Use `processing_class` instead.\n",
      "  trainer = Trainer(\n"
     ]
    },
    {
     "data": {
      "text/html": [
       "\n",
       "    <div>\n",
       "      \n",
       "      <progress value='40' max='40' style='width:300px; height:20px; vertical-align: middle;'></progress>\n",
       "      [40/40 05:08, Epoch 5/5]\n",
       "    </div>\n",
       "    <table border=\"1\" class=\"dataframe\">\n",
       "  <thead>\n",
       " <tr style=\"text-align: left;\">\n",
       "      <th>Epoch</th>\n",
       "      <th>Training Loss</th>\n",
       "      <th>Validation Loss</th>\n",
       "      <th>Accuracy</th>\n",
       "      <th>F1</th>\n",
       "      <th>Precision</th>\n",
       "      <th>Recall</th>\n",
       "    </tr>\n",
       "  </thead>\n",
       "  <tbody>\n",
       "    <tr>\n",
       "      <td>1</td>\n",
       "      <td>0.689100</td>\n",
       "      <td>0.694020</td>\n",
       "      <td>0.484000</td>\n",
       "      <td>0.000000</td>\n",
       "      <td>0.000000</td>\n",
       "      <td>0.000000</td>\n",
       "    </tr>\n",
       "    <tr>\n",
       "      <td>2</td>\n",
       "      <td>0.669600</td>\n",
       "      <td>0.674468</td>\n",
       "      <td>0.504500</td>\n",
       "      <td>0.081557</td>\n",
       "      <td>0.936170</td>\n",
       "      <td>0.042636</td>\n",
       "    </tr>\n",
       "    <tr>\n",
       "      <td>3</td>\n",
       "      <td>0.631900</td>\n",
       "      <td>0.639392</td>\n",
       "      <td>0.642167</td>\n",
       "      <td>0.490387</td>\n",
       "      <td>0.924799</td>\n",
       "      <td>0.333656</td>\n",
       "    </tr>\n",
       "    <tr>\n",
       "      <td>4</td>\n",
       "      <td>0.589500</td>\n",
       "      <td>0.603294</td>\n",
       "      <td>0.717667</td>\n",
       "      <td>0.645903</td>\n",
       "      <td>0.915284</td>\n",
       "      <td>0.499031</td>\n",
       "    </tr>\n",
       "    <tr>\n",
       "      <td>5</td>\n",
       "      <td>0.551800</td>\n",
       "      <td>0.584501</td>\n",
       "      <td>0.745000</td>\n",
       "      <td>0.695462</td>\n",
       "      <td>0.906120</td>\n",
       "      <td>0.564276</td>\n",
       "    </tr>\n",
       "  </tbody>\n",
       "</table><p>"
      ],
      "text/plain": [
       "<IPython.core.display.HTML object>"
      ]
     },
     "metadata": {},
     "output_type": "display_data"
    },
    {
     "name": "stderr",
     "output_type": "stream",
     "text": [
      "/home/zeus/miniconda3/envs/cloudspace/lib/python3.10/site-packages/sklearn/metrics/_classification.py:1471: UndefinedMetricWarning: Precision and F-score are ill-defined and being set to 0.0 due to no predicted samples. Use `zero_division` parameter to control this behavior.\n",
      "  _warn_prf(average, modifier, msg_start, len(result))\n"
     ]
    },
    {
     "data": {
      "text/html": [
       "\n",
       "    <div>\n",
       "      \n",
       "      <progress value='47' max='47' style='width:300px; height:20px; vertical-align: middle;'></progress>\n",
       "      [47/47 00:40]\n",
       "    </div>\n",
       "    "
      ],
      "text/plain": [
       "<IPython.core.display.HTML object>"
      ]
     },
     "metadata": {},
     "output_type": "display_data"
    },
    {
     "name": "stdout",
     "output_type": "stream",
     "text": [
      "Evaluation Results for train_1000: {'eval_loss': 0.5845005512237549, 'eval_accuracy': 0.745, 'eval_f1': 0.6954617834394905, 'eval_precision': 0.9061203319502075, 'eval_recall': 0.5642764857881137, 'eval_runtime': 41.8391, 'eval_samples_per_second': 143.406, 'eval_steps_per_second': 1.123, 'epoch': 5.0}\n"
     ]
    },
    {
     "name": "stderr",
     "output_type": "stream",
     "text": [
      "Some weights of DistilBertForSequenceClassification were not initialized from the model checkpoint at distilbert-base-uncased and are newly initialized: ['classifier.bias', 'classifier.weight', 'pre_classifier.bias', 'pre_classifier.weight']\n",
      "You should probably TRAIN this model on a down-stream task to be able to use it for predictions and inference.\n"
     ]
    },
    {
     "name": "stdout",
     "output_type": "stream",
     "text": [
      "Model and tokenizer saved in results/train_1000_model and results/train_1000_tokenizer respectively.\n",
      "Training on subset: train_6000\n"
     ]
    },
    {
     "name": "stderr",
     "output_type": "stream",
     "text": [
      "/tmp/ipykernel_1917/3160480789.py:7: FutureWarning: `tokenizer` is deprecated and will be removed in version 5.0.0 for `Trainer.__init__`. Use `processing_class` instead.\n",
      "  trainer = Trainer(\n"
     ]
    },
    {
     "data": {
      "text/html": [
       "\n",
       "    <div>\n",
       "      \n",
       "      <progress value='235' max='235' style='width:300px; height:20px; vertical-align: middle;'></progress>\n",
       "      [235/235 12:42, Epoch 5/5]\n",
       "    </div>\n",
       "    <table border=\"1\" class=\"dataframe\">\n",
       "  <thead>\n",
       " <tr style=\"text-align: left;\">\n",
       "      <th>Epoch</th>\n",
       "      <th>Training Loss</th>\n",
       "      <th>Validation Loss</th>\n",
       "      <th>Accuracy</th>\n",
       "      <th>F1</th>\n",
       "      <th>Precision</th>\n",
       "      <th>Recall</th>\n",
       "    </tr>\n",
       "  </thead>\n",
       "  <tbody>\n",
       "    <tr>\n",
       "      <td>1</td>\n",
       "      <td>0.535100</td>\n",
       "      <td>0.302829</td>\n",
       "      <td>0.879167</td>\n",
       "      <td>0.881787</td>\n",
       "      <td>0.890352</td>\n",
       "      <td>0.873385</td>\n",
       "    </tr>\n",
       "    <tr>\n",
       "      <td>2</td>\n",
       "      <td>0.246700</td>\n",
       "      <td>0.265769</td>\n",
       "      <td>0.897500</td>\n",
       "      <td>0.897891</td>\n",
       "      <td>0.923813</td>\n",
       "      <td>0.873385</td>\n",
       "    </tr>\n",
       "    <tr>\n",
       "      <td>3</td>\n",
       "      <td>0.178000</td>\n",
       "      <td>0.262327</td>\n",
       "      <td>0.902500</td>\n",
       "      <td>0.905202</td>\n",
       "      <td>0.908293</td>\n",
       "      <td>0.902132</td>\n",
       "    </tr>\n",
       "    <tr>\n",
       "      <td>4</td>\n",
       "      <td>0.139100</td>\n",
       "      <td>0.272173</td>\n",
       "      <td>0.902333</td>\n",
       "      <td>0.904622</td>\n",
       "      <td>0.911745</td>\n",
       "      <td>0.897610</td>\n",
       "    </tr>\n",
       "    <tr>\n",
       "      <td>5</td>\n",
       "      <td>0.115700</td>\n",
       "      <td>0.276624</td>\n",
       "      <td>0.902000</td>\n",
       "      <td>0.904359</td>\n",
       "      <td>0.910878</td>\n",
       "      <td>0.897933</td>\n",
       "    </tr>\n",
       "  </tbody>\n",
       "</table><p>"
      ],
      "text/plain": [
       "<IPython.core.display.HTML object>"
      ]
     },
     "metadata": {},
     "output_type": "display_data"
    },
    {
     "data": {
      "text/html": [
       "\n",
       "    <div>\n",
       "      \n",
       "      <progress value='47' max='47' style='width:300px; height:20px; vertical-align: middle;'></progress>\n",
       "      [47/47 00:42]\n",
       "    </div>\n",
       "    "
      ],
      "text/plain": [
       "<IPython.core.display.HTML object>"
      ]
     },
     "metadata": {},
     "output_type": "display_data"
    },
    {
     "name": "stdout",
     "output_type": "stream",
     "text": [
      "Evaluation Results for train_6000: {'eval_loss': 0.2623266577720642, 'eval_accuracy': 0.9025, 'eval_f1': 0.9052017501215364, 'eval_precision': 0.9082926829268293, 'eval_recall': 0.9021317829457365, 'eval_runtime': 43.1473, 'eval_samples_per_second': 139.059, 'eval_steps_per_second': 1.089, 'epoch': 5.0}\n",
      "Model and tokenizer saved in results/train_6000_model and results/train_6000_tokenizer respectively.\n",
      "All Evaluation Results: {'train_50': {'eval_loss': 0.6850602030754089, 'eval_accuracy': 0.516, 'eval_f1': 0.6807387862796834, 'eval_precision': 0.516, 'eval_recall': 1.0, 'eval_runtime': 42.3016, 'eval_samples_per_second': 141.839, 'eval_steps_per_second': 1.111, 'epoch': 5.0}, 'train_100': {'eval_loss': 0.6895862817764282, 'eval_accuracy': 0.5203333333333333, 'eval_f1': 0.6801511446988219, 'eval_precision': 0.518468315825144, 'eval_recall': 0.9883720930232558, 'eval_runtime': 42.634, 'eval_samples_per_second': 140.733, 'eval_steps_per_second': 1.102, 'epoch': 5.0}, 'train_200': {'eval_loss': 0.6874894499778748, 'eval_accuracy': 0.5165, 'eval_f1': 0.680822972824293, 'eval_precision': 0.5162689804772235, 'eval_recall': 0.9993540051679587, 'eval_runtime': 43.1172, 'eval_samples_per_second': 139.156, 'eval_steps_per_second': 1.09, 'epoch': 5.0}, 'train_400': {'eval_loss': 0.6783336400985718, 'eval_accuracy': 0.5306666666666666, 'eval_f1': 0.6844464365755266, 'eval_precision': 0.5240219629375429, 'eval_recall': 0.9864341085271318, 'eval_runtime': 40.8181, 'eval_samples_per_second': 146.994, 'eval_steps_per_second': 1.151, 'epoch': 5.0}, 'train_800': {'eval_loss': 0.6246672868728638, 'eval_accuracy': 0.7125, 'eval_f1': 0.6332128428662557, 'eval_precision': 0.926571250777847, 'eval_recall': 0.48094315245478036, 'eval_runtime': 42.4268, 'eval_samples_per_second': 141.42, 'eval_steps_per_second': 1.108, 'epoch': 5.0}, 'train_1000': {'eval_loss': 0.5845005512237549, 'eval_accuracy': 0.745, 'eval_f1': 0.6954617834394905, 'eval_precision': 0.9061203319502075, 'eval_recall': 0.5642764857881137, 'eval_runtime': 41.8391, 'eval_samples_per_second': 143.406, 'eval_steps_per_second': 1.123, 'epoch': 5.0}, 'train_6000': {'eval_loss': 0.2623266577720642, 'eval_accuracy': 0.9025, 'eval_f1': 0.9052017501215364, 'eval_precision': 0.9082926829268293, 'eval_recall': 0.9021317829457365, 'eval_runtime': 43.1473, 'eval_samples_per_second': 139.059, 'eval_steps_per_second': 1.089, 'epoch': 5.0}}\n"
     ]
    }
   ],
   "source": [
    "# Training and evaluation loop\n",
    "losses_per_epoch = {}\n",
    "results = {}\n",
    "\n",
    "for size, train_dataset in nested_splits_tokenized.items():\n",
    "    model = AutoModelForSequenceClassification.from_pretrained(model_name, num_labels=2)  # Reinitialize the model\n",
    "    trainer = Trainer(\n",
    "        model=model,\n",
    "        args=training_args,\n",
    "        train_dataset=train_dataset.with_format('torch'),\n",
    "        eval_dataset=test_tokenized,\n",
    "        tokenizer=tokenizer,\n",
    "        compute_metrics=compute_metrics\n",
    "    )\n",
    "    \n",
    "    print(f\"Training on subset: {size}\")\n",
    "    trainer.train()\n",
    "    evaluation_results = trainer.evaluate()\n",
    "    results[size] = evaluation_results\n",
    "    print(f\"Evaluation Results for {size}: {evaluation_results}\")\n",
    "    \n",
    "    # Collect loss data\n",
    "    train_loss = [log['loss'] for log in trainer.state.log_history if 'loss' in log]\n",
    "    losses_per_epoch[size] = train_loss\n",
    "\n",
    "    # Save model and tokenizer\n",
    "    model_output_dir = f\"results/{size}_model\"\n",
    "    tokenizer_output_dir = f\"results/{size}_tokenizer\"\n",
    "    model.save_pretrained(model_output_dir)\n",
    "    tokenizer.save_pretrained(tokenizer_output_dir)\n",
    "    print(f\"Model and tokenizer saved in {model_output_dir} and {tokenizer_output_dir} respectively.\")\n",
    "\n",
    "# Print all results\n",
    "print(\"All Evaluation Results:\", results)"
   ]
  },
  {
   "cell_type": "code",
   "execution_count": 16,
   "metadata": {},
   "outputs": [
    {
     "name": "stdout",
     "output_type": "stream",
     "text": [
      "        Model  Accuracy  F1-Score  Precision    Recall\n",
      "0    train_50  0.516000  0.680739   0.516000  1.000000\n",
      "1   train_100  0.520333  0.680151   0.518468  0.988372\n",
      "2   train_200  0.516500  0.680823   0.516269  0.999354\n",
      "3   train_400  0.530667  0.684446   0.524022  0.986434\n",
      "4   train_800  0.712500  0.633213   0.926571  0.480943\n",
      "5  train_1000  0.745000  0.695462   0.906120  0.564276\n",
      "6  train_6000  0.902500  0.905202   0.908293  0.902132\n"
     ]
    },
    {
     "data": {
      "image/png": "[encoded data removed]",
      "text/plain": [
       "<Figure size 1000x600 with 1 Axes>"
      ]
     },
     "metadata": {},
     "output_type": "display_data"
    }
   ],
   "source": [
    "# Create a list to accumulate data\n",
    "data = []\n",
    "\n",
    "# Iterate over results to populate the list\n",
    "for model_size, metrics in results.items():\n",
    "    data.append({\n",
    "        \"Model\": model_size,\n",
    "        \"Accuracy\": metrics[\"eval_accuracy\"],\n",
    "        \"F1-Score\": metrics[\"eval_f1\"],\n",
    "        \"Precision\": metrics[\"eval_precision\"],\n",
    "        \"Recall\": metrics[\"eval_recall\"]\n",
    "    })\n",
    "\n",
    "# Create a DataFrame\n",
    "comparison = pd.DataFrame(data)\n",
    "\n",
    "# Display the DataFrame\n",
    "print(comparison)\n",
    "\n",
    "# Visualize the comparison\n",
    "comparison.set_index(\"Model\").plot(kind=\"bar\", figsize=(10, 6), colormap='viridis')\n",
    "plt.title(\"Model Performance Comparison\")\n",
    "plt.ylabel(\"Score\")\n",
    "plt.xlabel(\"Model\")\n",
    "plt.grid(True, which='both', linestyle='--', linewidth=0.5)\n",
    "plt.legend(loc='upper left')\n",
    "plt.tight_layout()  # Adjusts the plot to ensure everything fits without overlap\n",
    "plt.show()"
   ]
  },
  {
   "cell_type": "code",
   "execution_count": 18,
   "metadata": {},
   "outputs": [
    {
     "data": {
      "image/png": "[encoded data removed]",
      "text/plain": [
       "<Figure size 1000x600 with 1 Axes>"
      ]
     },
     "metadata": {},
     "output_type": "display_data"
    }
   ],
   "source": [
    "# Plot the training losses\n",
    "fig, ax = plt.subplots(figsize=(10, 6))\n",
    "for size, losses in losses_per_epoch.items():\n",
    "    ax.plot(range(1, len(losses) + 1), losses, marker='o', label=f'Subset {size}')\n",
    "\n",
    "ax.set_title('Training Loss Over Epochs for Each Subset')\n",
    "ax.set_xlabel('Epoch')\n",
    "ax.set_ylabel('Loss')\n",
    "ax.legend(title='Subset Size')\n",
    "plt.grid(True)\n",
    "plt.show()"
   ]
  }
 ],
 "metadata": {
  "language_info": {
   "name": "python"
  }
 },
 "nbformat": 4,
 "nbformat_minor": 2
}
